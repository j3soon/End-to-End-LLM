{
 "cells": [
  {
   "cell_type": "markdown",
   "metadata": {},
   "source": [
    "<p> <center> <a href=\"../../../../../../Start_Here.ipynb\">Home Page</a> </center> </p>\n",
    " \n",
    "<div>\n",
    "    <span style=\"float: left; width: 33%; text-align: left;\"><a href=\"../moderation_rail/moderation_rail.ipynb\">Previous Notebook</a></span>\n",
    "    <span style=\"float: left; width: 33%; text-align: center;\">\n",
    "        <a href=\"../topical_rail/topical_rail.ipynb\">1</a>\n",
    "        <a href=\"../jailbreak_check/jailbreak_check.ipynb\">2</a>\n",
    "        <a href=\"../grounding_rail/grounding_rail.ipynb\">3</a>\n",
    "        <a href=\"../moderation_rail/moderation_rail.ipynb\">4</a>\n",
    "        <a>5</a>\n",
    "    </span>\n",
    "</div>"
   ]
  },
  {
   "cell_type": "markdown",
   "metadata": {},
   "source": [
    "# Custom Prompt Context\n",
    "\n",
    "This example shows how you can include custom data in your custom prompt.\n",
    "\n",
    "A common use case is to let the LLM know the current date and time so that it can respond appropriately to user queries involving a time component, e.g., \"What day is today?\". To achieve this, you need to:\n",
    "\n",
    "1. Register an additional [prompt context variable](../../docs/user_guide/advanced/prompt-customization.md#prompt-variables) (i.e., an additional variable that will be available when the prompts are rendered). This can be achieved using the `register_prompt_context(name, value_or_fn)`.\n",
    "\n",
    "2. Change the desired prompts to include the new variable(s).\n",
    "\n",
    "Check out the `config.py` and `config.yml` files for a proof-of-concept.\n",
    "\n",
    "## Launch the bot!\n",
    "### UI\n",
    "NeMo Guardrails enables users to interact with the server with a stock UI. To launch the\n",
    "server and access the UI to interact with this example, the following steps are\n",
    "recommended:\n",
    "* Set the `NVIDIA_API_KEY` or `OPENAI_API_KEY` environment variable. In this lab, we will be using NVIDIA NIM API key. You can get a free API key from the [NVIDIA NIM](https://build.nvidia.com/meta/llama3-70b) page.\n",
    "  ```bash\n",
    "  > export NVIDIA_API_KEY=...\n",
    "  ```\n",
    "* Make sure your current working directory is correctly set.\n",
    "  ```bash\n",
    "  > cd /workspace/jupyter_notebook/nemo-guardrails/guardrails/workspace/examples/custom_prompt_context\n",
    "  ```\n",
    "* Launch the server with the command: `nemoguardrails server --config=.`\n",
    "* Once the server is launched, you can go to: `http://localhost:8000` to access\n",
    "the UI\n",
    "* Click \"New Chat\" on the top left corner of the screen and then proceed to\n",
    "pick `Default (.)` from the drop-down menu.\n",
    "Refer to [Guardrails Server Documentation](../../docs/user_guide/interface-guide.md#guardrails-server) for more information.\n",
    "### Command Line Chat\n",
    "\n",
    "To chat with the bot with a command line interface simply use the following\n",
    "command while you are in this folder.\n",
    "```\n",
    "nemoguardrails chat --config=.\n",
    "```\n"
   ]
  },
  {
   "cell_type": "markdown",
   "metadata": {},
   "source": [
    "---\n",
    "## Licensing\n",
    "\n",
    "Copyright © 2022 OpenACC-Standard.org. This material is released by OpenACC-Standard.org, in collaboration with NVIDIA Corporation, under the Creative Commons Attribution 4.0 International (CC BY 4.0). These materials include references to hardware and software developed by other entities; all applicable licensing and copyrights apply."
   ]
  },
  {
   "cell_type": "markdown",
   "metadata": {},
   "source": [
    "<p> <center> <a href=\"../../../../../../Start_Here.ipynb\">Home Page</a> </center> </p>\n",
    " \n",
    "<div>\n",
    "    <span style=\"float: left; width: 33%; text-align: left;\"><a href=\"../moderation_rail/moderation_rail.ipynb\">Previous Notebook</a></span>\n",
    "    <span style=\"float: left; width: 33%; text-align: center;\">\n",
    "        <a href=\"../topical_rail/topical_rail.ipynb\">1</a>\n",
    "        <a href=\"../jailbreak_check/jailbreak_check.ipynb\">2</a>\n",
    "        <a href=\"../grounding_rail/grounding_rail.ipynb\">3</a>\n",
    "        <a href=\"../moderation_rail/moderation_rail.ipynb\">4</a>\n",
    "        <a>5</a>\n",
    "    </span>\n",
    "</div>"
   ]
  }
 ],
 "metadata": {
  "language_info": {
   "name": "python"
  },
  "orig_nbformat": 4
 },
 "nbformat": 4,
 "nbformat_minor": 2
}
